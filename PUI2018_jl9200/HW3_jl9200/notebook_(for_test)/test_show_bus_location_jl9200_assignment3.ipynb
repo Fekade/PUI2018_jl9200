{
 "cells": [
  {
   "cell_type": "code",
   "execution_count": 3,
   "metadata": {},
   "outputs": [
    {
     "name": "stdout",
     "output_type": "stream",
     "text": [
      "Populating the interactive namespace from numpy and matplotlib\n"
     ]
    }
   ],
   "source": [
    "from __future__ import print_function\n",
    "import requests\n",
    "import pylab as pl\n",
    "import json\n",
    "import sys\n",
    "import csv\n",
    "\n",
    "%pylab inline\n",
    "\n",
    "# import urllib2 or urllib\n",
    "\n",
    "\n",
    "try:\n",
    "    import urllib2 as urllib\n",
    "except ImportError:\n",
    "    import urllib.request as urllib\n",
    "\n",
    "\n",
    "###\n",
    "# go to terminal\n",
    "# python show_bus_locations_jl9200.py API_KEY Busline\n"
   ]
  },
  {
   "cell_type": "code",
   "execution_count": 82,
   "metadata": {},
   "outputs": [],
   "source": [
    "if not len(sys.argv)>=3:\n",
    "    print(\"Invalid number of arguments. Please run as: python file_name.py <Apikey> <Bus_line>\")\n",
    "    sys.exit()"
   ]
  },
  {
   "cell_type": "code",
   "execution_count": 86,
   "metadata": {},
   "outputs": [],
   "source": [
    "\n",
    "# change MY_KEY and BUS as input in terminal\n",
    "MY_KEY =\"22d5bcc9-a3c0-4858-94fb-2e1e8c04add9\" # sys.argv[1]\n",
    "BUS = \"B52\"  # sys.argv[2]\n",
    "## input will be \"python show_bus_locations.py <MTA_KEY> <BUS_LINE>\"\n",
    "\n",
    "url = \"http://bustime.mta.info/api/siri/vehicle-monitoring.json?key=\"+ MY_KEY + \"&VehicleMonitoringDetailLevel=calls&LineRef=\" + BUS\n",
    "  \n",
    "\n",
    "# user the json.loads to obtain a dictionary representation of the response string\n",
    "\n",
    "\n",
    "#print (url)\n",
    "\n",
    "response = urllib.urlopen(url)\n",
    "data = response.read().decode(\"utf-8\")\n",
    "data = json.loads(data)\n",
    "# print(data)\n",
    "\n",
    "\n",
    "# print (data['Siri']['ServiceDelivery']['VehicleMonitoringDelivery'][0]['VehicleActivity'])\n",
    "\n",
    "# calculate number of buses\n",
    "\n",
    "\n"
   ]
  },
  {
   "cell_type": "code",
   "execution_count": 84,
   "metadata": {},
   "outputs": [
    {
     "name": "stdout",
     "output_type": "stream",
     "text": [
      "Bus Line :B52\n",
      "Number of Active Buses : 13\n",
      "Bus 1 is at latitude 40.686833 and longitude -73.944971\n",
      "Bus 2 is at latitude 40.690778 and longitude -73.985654\n",
      "Bus 3 is at latitude 40.688908 and longitude -73.927111\n",
      "Bus 4 is at latitude 40.685742 and longitude -73.954646\n",
      "Bus 5 is at latitude 40.685825 and longitude -73.973301\n",
      "Bus 6 is at latitude 40.686415 and longitude -73.959512\n",
      "Bus 7 is at latitude 40.689883 and longitude -73.983436\n",
      "Bus 8 is at latitude 40.693866 and longitude -73.990441\n",
      "Bus 9 is at latitude 40.691896 and longitude -73.988522\n",
      "Bus 10 is at latitude 40.698107 and longitude -73.913587\n",
      "Bus 11 is at latitude 40.700618 and longitude -73.909978\n",
      "Bus 12 is at latitude 40.700471 and longitude -73.910031\n",
      "Bus 13 is at latitude 40.68826 and longitude -73.932633\n"
     ]
    }
   ],
   "source": [
    "#print (Num_buses)\n",
    "Num_buses = len(data['Siri']['ServiceDelivery']['VehicleMonitoringDelivery'][0]['VehicleActivity'])\n",
    "print (\"Bus Line :\" + BUS)\n",
    "print (\"Number of Active Buses : \"+ str(Num_buses))\n",
    "for i in range(Num_buses):\n",
    "    bus_lat = data['Siri']['ServiceDelivery']['VehicleMonitoringDelivery'][0]['VehicleActivity'][i]['MonitoredVehicleJourney']['VehicleLocation']['Latitude']\n",
    "    bus_lon = data['Siri']['ServiceDelivery']['VehicleMonitoringDelivery'][0]['VehicleActivity'][i]['MonitoredVehicleJourney']['VehicleLocation']['Longitude']\n",
    "    print (\"Bus \"+ str(i+1) +\" is at\" +\" latitude \" +str(bus_lat) +\" and longitude \"+str(bus_lon))\n",
    "    \n",
    "\n",
    "# alternative print option\n",
    "# print(\"Bus %s is at Latitude %s and Longitude %s\" %(n,bus_lat,bus_lon))"
   ]
  },
  {
   "cell_type": "code",
   "execution_count": null,
   "metadata": {},
   "outputs": [],
   "source": []
  }
 ],
 "metadata": {
  "kernelspec": {
   "display_name": "PUI2016_Python3",
   "language": "python",
   "name": "pui2016_python3"
  },
  "language_info": {
   "codemirror_mode": {
    "name": "ipython",
    "version": 3
   },
   "file_extension": ".py",
   "mimetype": "text/x-python",
   "name": "python",
   "nbconvert_exporter": "python",
   "pygments_lexer": "ipython3",
   "version": "3.5.4"
  }
 },
 "nbformat": 4,
 "nbformat_minor": 2
}
